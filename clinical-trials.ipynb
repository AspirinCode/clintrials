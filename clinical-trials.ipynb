{
 "cells": [
  {
   "cell_type": "markdown",
   "metadata": {},
   "source": [
    "# Extract indications in clinical trial from clinicaltrials.gov\n",
    "\n",
    "+ [documentation](https://clinicaltrials.gov/ct2/help/how-read-study \"How to read a study record\")"
   ]
  },
  {
   "cell_type": "code",
   "execution_count": 7,
   "metadata": {
    "collapsed": true
   },
   "outputs": [],
   "source": [
    "import os\n",
    "import collections\n",
    "import urllib\n",
    "import urllib.request\n",
    "import zipfile\n",
    "import xml.etree.ElementTree\n",
    "import gzip\n",
    "import io\n",
    "import re\n",
    "import random\n",
    "\n",
    "import pandas"
   ]
  },
  {
   "cell_type": "markdown",
   "metadata": {},
   "source": [
    "## Download XML-formatted study records and save randomly sampled studies"
   ]
  },
  {
   "cell_type": "code",
   "execution_count": 2,
   "metadata": {
    "collapsed": false
   },
   "outputs": [],
   "source": [
    "# # Run to download all trials as xml\n",
    "# query = {'resultsxml': 'true'}\n",
    "# query_str = urllib.parse.urlencode(query)\n",
    "# query_url = 'http://clinicaltrials.gov/search?{}'.format(query_str) \n",
    "# zip_path = 'download/resultsxml.zip'\n",
    "# urllib.request.urlretrieve(query_url, zip_path)"
   ]
  },
  {
   "cell_type": "code",
   "execution_count": 3,
   "metadata": {
    "collapsed": false
   },
   "outputs": [],
   "source": [
    "def zip_reader(path, max_records=None):\n",
    "    \"\"\"\n",
    "    Read records from `download/resultsxml.zip`\n",
    "    \"\"\"\n",
    "    with zipfile.ZipFile(path) as open_zip:\n",
    "        filenames = open_zip.namelist()\n",
    "        for i, filename in enumerate(filenames):\n",
    "            with open_zip.open(filename) as open_xml:\n",
    "                yield filename, xml.etree.ElementTree.parse(open_xml)\n",
    "            if max_records is not None and i + 1 >= max_records:\n",
    "                break"
   ]
  },
  {
   "cell_type": "code",
   "execution_count": 4,
   "metadata": {
    "collapsed": false
   },
   "outputs": [
    {
     "name": "stdout",
     "output_type": "stream",
     "text": [
      "CPU times: user 5min 5s, sys: 2.46 s, total: 5min 8s\n",
      "Wall time: 5min 8s\n"
     ]
    }
   ],
   "source": [
    "%%time\n",
    "# Prepare sample xml files\n",
    "random.seed(0)\n",
    "path = 'download/resultsxml.zip'\n",
    "for filename, tree in zip_reader(path):\n",
    "    if random.random() < 1e-4:\n",
    "        sample_path = os.path.join('download', 'sample', filename)\n",
    "        tree.write(sample_path)"
   ]
  },
  {
   "cell_type": "markdown",
   "metadata": {},
   "source": [
    "## Below code is in progress"
   ]
  },
  {
   "cell_type": "code",
   "execution_count": 5,
   "metadata": {
    "collapsed": false
   },
   "outputs": [],
   "source": [
    "# dhimmel/mesh commit\n",
    "commit = '9e16dfdca6c6d32cf8d1dcb4149c86be58a1a029'\n",
    "\n",
    "# Read MeSH descriptor and supplementary terms\n",
    "url = 'https://github.com/dhimmel/mesh/blob/{}/data/descriptor-terms.tsv?raw=true'.format(commit)\n",
    "desc_df = pandas.read_table(url)\n",
    "\n",
    "url = 'https://github.com/dhimmel/mesh/blob/{}/data/supplemental-terms.tsv?raw=true'.format(commit)\n",
    "supp_df = pandas.read_table(url)\n",
    "\n",
    "assert not set(desc_df.TermName) & set(supp_df.TermName)\n",
    "\n",
    "# Create a dictionary of MeSH term names to unique identifiers\n",
    "mesh_name_to_id = dict(zip(desc_df.TermName, desc_df.DescriptorUI))\n",
    "mesh_name_to_id.update(dict(zip(supp_df.TermName, supp_df.SupplementalRecordUI)))"
   ]
  },
  {
   "cell_type": "code",
   "execution_count": 8,
   "metadata": {
    "collapsed": false
   },
   "outputs": [],
   "source": [
    "unmatched_terms = collections.Counter()\n",
    "\n",
    "def get_mesh_id(name):\n",
    "    # Match by name\n",
    "    mesh_id = mesh_name_to_id.get(name)\n",
    "    if mesh_id is not None:\n",
    "        return mesh_id\n",
    "    # Match by name with first letter lowercase\n",
    "    first_lower = name[0].lower() + name[1:]\n",
    "    mesh_id = mesh_name_to_id.get(first_lower)\n",
    "    if mesh_id is not None:\n",
    "        return mesh_id\n",
    "    # Return `None` for unmatched\n",
    "    unmatched_terms[name] += 1\n",
    "    return None\n",
    "\n",
    "def get_mesh_ids(names):\n",
    "    mesh_ids = [get_mesh_id(name) for name in names]\n",
    "    return [x for x in mesh_ids if x is not None]"
   ]
  },
  {
   "cell_type": "code",
   "execution_count": null,
   "metadata": {
    "collapsed": false
   },
   "outputs": [],
   "source": []
  },
  {
   "cell_type": "code",
   "execution_count": null,
   "metadata": {
    "collapsed": false
   },
   "outputs": [],
   "source": []
  },
  {
   "cell_type": "code",
   "execution_count": null,
   "metadata": {
    "collapsed": true
   },
   "outputs": [],
   "source": [
    "def parse_study_xml(study):\n",
    "    series = pandas.Series()\n",
    "    series['nct_id'] = study.findtext('id_info/nct_id')\n",
    "    series['study_type'] = study.findtext('study_type')\n",
    "    series['brief_title'] = study.findtext('brief_title')\n",
    "    brief_summary = study.findtext('brief_summary/textblock', '')\n",
    "    series['brief_summary'] = re.sub(r' *\\n *', ' ', brief_summary).strip()\n",
    "    series['overall_status'] = study.findtext('overall_status')\n",
    "    series['start_date'] = study.findtext('start_date')\n",
    "    series['phase'] = study.findtext('phase')\n",
    "    series['conditions'] = [x.text for x in study.findall('condition')]\n",
    "    series['intervention_drugs'] = [x.text for x in study.findall('intervention[intervention_type=\"Drug\"]/intervention_name')]\n",
    "    series['mesh_conditions'] = map_terms_to_mesh(x.text for x in study.findall('condition_browse/mesh_term'))\n",
    "    series['mesh_interventions'] = map_terms_to_mesh(x.text for x in study.findall('intervention_browse/mesh_term'))\n",
    "    return series"
   ]
  },
  {
   "cell_type": "code",
   "execution_count": null,
   "metadata": {
    "collapsed": false
   },
   "outputs": [],
   "source": [
    "# Read studies from zipfile\n",
    "studies = list()\n",
    "zip_path = 'download/resultsxml.zip'\n",
    "\n",
    "series = parse_study_xml(element_tree)\n",
    "\n",
    "study_df = pandas.DataFrame(studies)\n",
    "len(study_df)"
   ]
  },
  {
   "cell_type": "code",
   "execution_count": null,
   "metadata": {
    "collapsed": false
   },
   "outputs": [],
   "source": [
    "study_df.head()"
   ]
  },
  {
   "cell_type": "code",
   "execution_count": null,
   "metadata": {
    "collapsed": true
   },
   "outputs": [],
   "source": []
  },
  {
   "cell_type": "code",
   "execution_count": null,
   "metadata": {
    "collapsed": false
   },
   "outputs": [],
   "source": [
    "# Save clinical trials, pipe delimiting plural fields\n",
    "write_df = study_df.copy()\n",
    "plural_columns = ['conditions', 'intervention_drugs', 'mesh_conditions', 'mesh_interventions']\n",
    "for column in plural_columns:\n",
    "    write_df[column] = write_df[column].map(lambda x: '|'.join(x))\n",
    "\n",
    "with gzip.open('data/results.tsv.gz', 'wt') as write_file:\n",
    "    write_df.to_csv(write_file, sep='\\t', index=False)"
   ]
  },
  {
   "cell_type": "code",
   "execution_count": null,
   "metadata": {
    "collapsed": false
   },
   "outputs": [],
   "source": []
  },
  {
   "cell_type": "code",
   "execution_count": null,
   "metadata": {
    "collapsed": true
   },
   "outputs": [],
   "source": []
  }
 ],
 "metadata": {
  "kernelspec": {
   "display_name": "Python 3",
   "language": "python",
   "name": "python3"
  },
  "language_info": {
   "codemirror_mode": {
    "name": "ipython",
    "version": 3
   },
   "file_extension": ".py",
   "mimetype": "text/x-python",
   "name": "python",
   "nbconvert_exporter": "python",
   "pygments_lexer": "ipython3",
   "version": "3.5.1"
  }
 },
 "nbformat": 4,
 "nbformat_minor": 0
}
