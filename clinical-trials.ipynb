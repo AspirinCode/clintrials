{
 "cells": [
  {
   "cell_type": "code",
   "execution_count": 1,
   "metadata": {
    "collapsed": true
   },
   "outputs": [],
   "source": [
    "import os\n",
    "import urllib\n",
    "import zipfile\n",
    "import xml.etree.ElementTree\n",
    "import gzip\n",
    "import io\n",
    "import re\n",
    "\n",
    "import pandas"
   ]
  },
  {
   "cell_type": "code",
   "execution_count": null,
   "metadata": {
    "collapsed": false
   },
   "outputs": [],
   "source": [
    "# Run to download all trials as xml\n",
    "assert False # long operation, comment out if desired\n",
    "query = {'resultsxml': 'true'}\n",
    "query_str = urllib.parse.urlencode(query)\n",
    "query_url = 'http://clinicaltrials.gov/search?{}'.format(query_str) \n",
    "zip_path = 'download/resultsxml.zip'\n",
    "capture = ! wget --timestamping --output-document \"{zip_path}\" \"{query_url}\""
   ]
  },
  {
   "cell_type": "code",
   "execution_count": 2,
   "metadata": {
    "collapsed": false
   },
   "outputs": [],
   "source": [
    "# Read MeSH descriptor and supplementary terms\n",
    "url = 'https://raw.githubusercontent.com/dhimmel/mesh/a7036a37302973b15ab949aab4056d9bc062910e/data/descriptor-terms.tsv'\n",
    "desc_df = pandas.read_table(url)\n",
    "\n",
    "url = 'https://raw.githubusercontent.com/dhimmel/mesh/a7036a37302973b15ab949aab4056d9bc062910e/data/supplemental-terms.tsv'\n",
    "supp_df = pandas.read_table(url)\n",
    "\n",
    "assert not set(desc_df.TermName) & set(supp_df.TermName)\n",
    "\n",
    "# Create a dictionary of MeSH term names to unique identifiers\n",
    "mesh_name_to_id = dict(zip(desc_df.TermName, desc_df.DescriptorUI))\n",
    "mesh_name_to_id.update(dict(zip(supp_df.TermName, supp_df.SupplementalRecordUI)))"
   ]
  },
  {
   "cell_type": "code",
   "execution_count": 3,
   "metadata": {
    "collapsed": false
   },
   "outputs": [],
   "source": [
    "def map_term_to_mesh(name):\n",
    "    ui = mesh_name_to_id.get(name)\n",
    "    if ui is not None:\n",
    "        return ui\n",
    "    first_lower = name[0].lower() + name[1:]\n",
    "    ui = mesh_name_to_id.get(first_lower)\n",
    "    if ui is not None:\n",
    "        #print('Changed \"{}\" to \"{}\" to match MeSH'.format(name, first_lower))\n",
    "        return ui\n",
    "    print('MeSH term not matched', name)\n",
    "    return None"
   ]
  },
  {
   "cell_type": "code",
   "execution_count": 4,
   "metadata": {
    "collapsed": false
   },
   "outputs": [],
   "source": [
    "def map_terms_to_mesh(names):\n",
    "    uis = [map_term_to_mesh(name) for name in names]\n",
    "    return list(filter((None).__ne__, uis))"
   ]
  },
  {
   "cell_type": "code",
   "execution_count": null,
   "metadata": {
    "collapsed": false
   },
   "outputs": [],
   "source": []
  },
  {
   "cell_type": "code",
   "execution_count": 5,
   "metadata": {
    "collapsed": true
   },
   "outputs": [],
   "source": [
    "def parse_study_xml(study):\n",
    "    series = pandas.Series()\n",
    "    series['nct_id'] = study.findtext('id_info/nct_id')\n",
    "    series['study_type'] = study.findtext('study_type')\n",
    "    series['brief_title'] = study.findtext('brief_title')\n",
    "    brief_summary = study.findtext('brief_summary/textblock', '')\n",
    "    series['brief_summary'] = re.sub(r' *\\n *', ' ', brief_summary).strip()\n",
    "    series['overall_status'] = study.findtext('overall_status')\n",
    "    series['start_date'] = study.findtext('start_date')\n",
    "    series['phase'] = study.findtext('phase')\n",
    "    series['conditions'] = [x.text for x in study.findall('condition')]\n",
    "    series['intervention_drugs'] = [x.text for x in study.findall('intervention[intervention_type=\"Drug\"]/intervention_name')]\n",
    "    series['mesh_conditions'] = map_terms_to_mesh(x.text for x in study.findall('condition_browse/mesh_term'))\n",
    "    series['mesh_interventions'] = map_terms_to_mesh(x.text for x in study.findall('intervention_browse/mesh_term'))\n",
    "    return series"
   ]
  },
  {
   "cell_type": "code",
   "execution_count": null,
   "metadata": {
    "collapsed": true
   },
   "outputs": [],
   "source": []
  },
  {
   "cell_type": "code",
   "execution_count": 6,
   "metadata": {
    "collapsed": false
   },
   "outputs": [
    {
     "data": {
      "text/plain": [
       "190954"
      ]
     },
     "execution_count": 6,
     "metadata": {},
     "output_type": "execute_result"
    }
   ],
   "source": [
    "# Read studies from zipfile\n",
    "studies = list()\n",
    "zip_path = 'download/resultsxml.zip'\n",
    "\n",
    "with zipfile.ZipFile(zip_path) as open_zip:\n",
    "    filenames = open_zip.namelist()\n",
    "    for filename in filenames:\n",
    "        with open_zip.open(filename) as open_xml:\n",
    "            element_tree = xml.etree.ElementTree.parse(open_xml)\n",
    "            series = parse_study_xml(element_tree)\n",
    "            studies.append(series)\n",
    "\n",
    "study_df = pandas.DataFrame(studies)\n",
    "len(study_df)"
   ]
  },
  {
   "cell_type": "code",
   "execution_count": 7,
   "metadata": {
    "collapsed": false
   },
   "outputs": [
    {
     "data": {
      "text/html": [
       "<div style=\"max-height:1000px;max-width:1500px;overflow:auto;\">\n",
       "<table border=\"1\" class=\"dataframe\">\n",
       "  <thead>\n",
       "    <tr style=\"text-align: right;\">\n",
       "      <th></th>\n",
       "      <th>nct_id</th>\n",
       "      <th>study_type</th>\n",
       "      <th>brief_title</th>\n",
       "      <th>brief_summary</th>\n",
       "      <th>overall_status</th>\n",
       "      <th>start_date</th>\n",
       "      <th>phase</th>\n",
       "      <th>conditions</th>\n",
       "      <th>intervention_drugs</th>\n",
       "      <th>mesh_conditions</th>\n",
       "      <th>mesh_interventions</th>\n",
       "    </tr>\n",
       "  </thead>\n",
       "  <tbody>\n",
       "    <tr>\n",
       "      <th>0</th>\n",
       "      <td>NCT01137227</td>\n",
       "      <td>Observational</td>\n",
       "      <td>Factors Associated With Physical Inactivity Am...</td>\n",
       "      <td>Despite the acknowledgment that physical activ...</td>\n",
       "      <td>Active, not recruiting</td>\n",
       "      <td>April 2010</td>\n",
       "      <td>N/A</td>\n",
       "      <td>[Physical Inactivity, Obesity, Overweight]</td>\n",
       "      <td>[]</td>\n",
       "      <td>[]</td>\n",
       "      <td>[]</td>\n",
       "    </tr>\n",
       "    <tr>\n",
       "      <th>1</th>\n",
       "      <td>NCT00852527</td>\n",
       "      <td>Observational</td>\n",
       "      <td>Evaluation of VA's Traumatic Brain Injury (TBI...</td>\n",
       "      <td>The purpose of the proposed study is to determ...</td>\n",
       "      <td>Completed</td>\n",
       "      <td>June 2009</td>\n",
       "      <td>N/A</td>\n",
       "      <td>[Traumatic Brain Injury]</td>\n",
       "      <td>[]</td>\n",
       "      <td>[D001930]</td>\n",
       "      <td>[]</td>\n",
       "    </tr>\n",
       "    <tr>\n",
       "      <th>2</th>\n",
       "      <td>NCT00704327</td>\n",
       "      <td>Observational</td>\n",
       "      <td>Evaluating the Impact of Cerebral Ischemic And...</td>\n",
       "      <td>The purpose of this study is to evaluate wheth...</td>\n",
       "      <td>Recruiting</td>\n",
       "      <td>February 2008</td>\n",
       "      <td>N/A</td>\n",
       "      <td>[Cognitive Decline]</td>\n",
       "      <td>[]</td>\n",
       "      <td>[]</td>\n",
       "      <td>[]</td>\n",
       "    </tr>\n",
       "    <tr>\n",
       "      <th>3</th>\n",
       "      <td>NCT00005027</td>\n",
       "      <td>Interventional</td>\n",
       "      <td>Rebeccamycin Analog in Treating Patients With ...</td>\n",
       "      <td>RATIONALE: Drugs used in chemotherapy use diff...</td>\n",
       "      <td>Completed</td>\n",
       "      <td>June 2000</td>\n",
       "      <td>Phase 2</td>\n",
       "      <td>[Kidney Cancer]</td>\n",
       "      <td>[becatecarin]</td>\n",
       "      <td>[D002292, D007680]</td>\n",
       "      <td>[]</td>\n",
       "    </tr>\n",
       "    <tr>\n",
       "      <th>4</th>\n",
       "      <td>NCT00305227</td>\n",
       "      <td>Interventional</td>\n",
       "      <td>Intravaginal LACTIN-V for Prevention of Recurr...</td>\n",
       "      <td>Recurrent urinary tract infections (RUTIS) con...</td>\n",
       "      <td>Completed</td>\n",
       "      <td>March 2006</td>\n",
       "      <td>Phase 2</td>\n",
       "      <td>[Urinary Tract Infection]</td>\n",
       "      <td>[Lactin-V, Placebo]</td>\n",
       "      <td>[D003141, D007239, D014552]</td>\n",
       "      <td>[]</td>\n",
       "    </tr>\n",
       "  </tbody>\n",
       "</table>\n",
       "</div>"
      ],
      "text/plain": [
       "        nct_id      study_type  \\\n",
       "0  NCT01137227   Observational   \n",
       "1  NCT00852527   Observational   \n",
       "2  NCT00704327   Observational   \n",
       "3  NCT00005027  Interventional   \n",
       "4  NCT00305227  Interventional   \n",
       "\n",
       "                                         brief_title  \\\n",
       "0  Factors Associated With Physical Inactivity Am...   \n",
       "1  Evaluation of VA's Traumatic Brain Injury (TBI...   \n",
       "2  Evaluating the Impact of Cerebral Ischemic And...   \n",
       "3  Rebeccamycin Analog in Treating Patients With ...   \n",
       "4  Intravaginal LACTIN-V for Prevention of Recurr...   \n",
       "\n",
       "                                       brief_summary          overall_status  \\\n",
       "0  Despite the acknowledgment that physical activ...  Active, not recruiting   \n",
       "1  The purpose of the proposed study is to determ...               Completed   \n",
       "2  The purpose of this study is to evaluate wheth...              Recruiting   \n",
       "3  RATIONALE: Drugs used in chemotherapy use diff...               Completed   \n",
       "4  Recurrent urinary tract infections (RUTIS) con...               Completed   \n",
       "\n",
       "      start_date    phase                                  conditions  \\\n",
       "0     April 2010      N/A  [Physical Inactivity, Obesity, Overweight]   \n",
       "1      June 2009      N/A                    [Traumatic Brain Injury]   \n",
       "2  February 2008      N/A                         [Cognitive Decline]   \n",
       "3      June 2000  Phase 2                             [Kidney Cancer]   \n",
       "4     March 2006  Phase 2                   [Urinary Tract Infection]   \n",
       "\n",
       "    intervention_drugs              mesh_conditions mesh_interventions  \n",
       "0                   []                           []                 []  \n",
       "1                   []                    [D001930]                 []  \n",
       "2                   []                           []                 []  \n",
       "3        [becatecarin]           [D002292, D007680]                 []  \n",
       "4  [Lactin-V, Placebo]  [D003141, D007239, D014552]                 []  "
      ]
     },
     "execution_count": 7,
     "metadata": {},
     "output_type": "execute_result"
    }
   ],
   "source": [
    "study_df.head()"
   ]
  },
  {
   "cell_type": "code",
   "execution_count": null,
   "metadata": {
    "collapsed": true
   },
   "outputs": [],
   "source": []
  },
  {
   "cell_type": "code",
   "execution_count": 8,
   "metadata": {
    "collapsed": false
   },
   "outputs": [],
   "source": [
    "# Save clinical trials, pipe delimiting plural fields\n",
    "write_df = study_df.copy()\n",
    "plural_columns = ['conditions', 'intervention_drugs', 'mesh_conditions', 'mesh_interventions']\n",
    "for column in plural_columns:\n",
    "    write_df[column] = write_df[column].map(lambda x: '|'.join(x))\n",
    "\n",
    "with gzip.open('data/results.tsv.gz', 'wt') as write_file:\n",
    "    write_df.to_csv(write_file, sep='\\t', index=False)"
   ]
  },
  {
   "cell_type": "code",
   "execution_count": null,
   "metadata": {
    "collapsed": false
   },
   "outputs": [],
   "source": []
  },
  {
   "cell_type": "code",
   "execution_count": null,
   "metadata": {
    "collapsed": true
   },
   "outputs": [],
   "source": []
  }
 ],
 "metadata": {
  "kernelspec": {
   "display_name": "Python 3",
   "language": "python",
   "name": "python3"
  },
  "language_info": {
   "codemirror_mode": {
    "name": "ipython",
    "version": 3
   },
   "file_extension": ".py",
   "mimetype": "text/x-python",
   "name": "python",
   "nbconvert_exporter": "python",
   "pygments_lexer": "ipython3",
   "version": "3.4.0"
  }
 },
 "nbformat": 4,
 "nbformat_minor": 0
}
